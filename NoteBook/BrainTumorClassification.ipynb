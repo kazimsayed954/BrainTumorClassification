{
  "nbformat": 4,
  "nbformat_minor": 0,
  "metadata": {
    "colab": {
      "name": "BrainTumorClassification.ipynb",
      "provenance": [],
      "mount_file_id": "1jArtAIFMAFZSKq_qyiUdEI-rYH-xw-ll",
      "authorship_tag": "ABX9TyMdKX+/zJ3oNCrtIXBRW8cl",
      "include_colab_link": true
    },
    "kernelspec": {
      "name": "python3",
      "display_name": "Python 3"
    },
    "language_info": {
      "name": "python"
    }
  },
  "cells": [
    {
      "cell_type": "markdown",
      "metadata": {
        "id": "view-in-github",
        "colab_type": "text"
      },
      "source": [
        "<a href=\"https://colab.research.google.com/github/kazimsayed954/BrainTumorClassification/blob/main/NoteBook/BrainTumorClassification.ipynb\" target=\"_parent\"><img src=\"https://colab.research.google.com/assets/colab-badge.svg\" alt=\"Open In Colab\"/></a>"
      ]
    },
    {
      "cell_type": "code",
      "metadata": {
        "id": "9lR6V4zZESDm"
      },
      "source": [
        "!pip install --quiet kaggle"
      ],
      "execution_count": 1,
      "outputs": []
    },
    {
      "cell_type": "code",
      "metadata": {
        "id": "ckpDs0mWEo93"
      },
      "source": [
        "from google.colab import files\n",
        "files.upload()"
      ],
      "execution_count": null,
      "outputs": []
    },
    {
      "cell_type": "code",
      "metadata": {
        "colab": {
          "base_uri": "https://localhost:8080/"
        },
        "id": "Huwu3z_FE1WA",
        "outputId": "4ada61e8-78fb-438f-bffa-a8dd0fed73ad"
      },
      "source": [
        "!mkdir -p ~/.kaggle\n",
        "!cp kaggle.json ~/.kaggle/\n",
        "# Check the file in its new directory\n",
        "!ls /root/.kaggle/\n",
        "# Check the file permission\n",
        "!ls -l ~/.kaggle/kaggle.json\n",
        "#Change the file permission\n",
        "# chmod 600 file – owner can read and write\n",
        "# chmod 700 file – owner can read, write and execute\n",
        "!chmod 600 ~/.kaggle/kaggle.json"
      ],
      "execution_count": 15,
      "outputs": [
        {
          "output_type": "stream",
          "text": [
            "kaggle.json\n",
            "-rw------- 1 root root 75 May 28 03:51 /root/.kaggle/kaggle.json\n"
          ],
          "name": "stdout"
        }
      ]
    },
    {
      "cell_type": "code",
      "metadata": {
        "colab": {
          "base_uri": "https://localhost:8080/"
        },
        "id": "QB3AbvydFDZ_",
        "outputId": "c2fea248-da74-4914-ae55-41985f00c0b8"
      },
      "source": [
        "!kaggle datasets download -d preetviradiya/brian-tumor-dataset -p /content/drive/MyDrive/Dataset/BrainTumor --force"
      ],
      "execution_count": 16,
      "outputs": [
        {
          "output_type": "stream",
          "text": [
            "Downloading brian-tumor-dataset.zip to /content/drive/MyDrive/Dataset/BrainTumor\n",
            " 89% 96.0M/107M [00:01<00:00, 65.8MB/s]\n",
            "100% 107M/107M [00:01<00:00, 63.5MB/s] \n"
          ],
          "name": "stdout"
        }
      ]
    },
    {
      "cell_type": "code",
      "metadata": {
        "id": "8V8zDAN8Gezn"
      },
      "source": [
        "!unzip /content/drive/MyDrive/Dataset/BrainTumor/brian-tumor-dataset.zip -d /content/drive/MyDrive/Dataset/BrainTumor/  "
      ],
      "execution_count": null,
      "outputs": []
    }
  ]
}