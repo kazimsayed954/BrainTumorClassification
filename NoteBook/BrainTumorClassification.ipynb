{
  "nbformat": 4,
  "nbformat_minor": 0,
  "metadata": {
    "colab": {
      "name": "BrainTumorClassification.ipynb",
      "provenance": [],
      "mount_file_id": "1jArtAIFMAFZSKq_qyiUdEI-rYH-xw-ll",
      "authorship_tag": "ABX9TyMgTPEmOYXvTo5osTdBZxvr",
      "include_colab_link": true
    },
    "kernelspec": {
      "name": "python3",
      "display_name": "Python 3"
    },
    "language_info": {
      "name": "python"
    }
  },
  "cells": [
    {
      "cell_type": "markdown",
      "metadata": {
        "id": "view-in-github",
        "colab_type": "text"
      },
      "source": [
        "<a href=\"https://colab.research.google.com/github/kazimsayed954/BrainTumorClassification/blob/main/NoteBook/BrainTumorClassification.ipynb\" target=\"_parent\"><img src=\"https://colab.research.google.com/assets/colab-badge.svg\" alt=\"Open In Colab\"/></a>"
      ]
    },
    {
      "cell_type": "code",
      "metadata": {
        "id": "9lR6V4zZESDm"
      },
      "source": [
        "!pip install --quiet kaggle"
      ],
      "execution_count": 1,
      "outputs": []
    },
    {
      "cell_type": "code",
      "metadata": {
        "id": "ckpDs0mWEo93"
      },
      "source": [
        "from google.colab import files\n",
        "files.upload()"
      ],
      "execution_count": null,
      "outputs": []
    },
    {
      "cell_type": "code",
      "metadata": {
        "colab": {
          "base_uri": "https://localhost:8080/"
        },
        "id": "Huwu3z_FE1WA",
        "outputId": "4ada61e8-78fb-438f-bffa-a8dd0fed73ad"
      },
      "source": [
        "!mkdir -p ~/.kaggle\n",
        "!cp kaggle.json ~/.kaggle/\n",
        "# Check the file in its new directory\n",
        "!ls /root/.kaggle/\n",
        "# Check the file permission\n",
        "!ls -l ~/.kaggle/kaggle.json\n",
        "#Change the file permission\n",
        "# chmod 600 file – owner can read and write\n",
        "# chmod 700 file – owner can read, write and execute\n",
        "!chmod 600 ~/.kaggle/kaggle.json"
      ],
      "execution_count": 15,
      "outputs": [
        {
          "output_type": "stream",
          "text": [
            "kaggle.json\n",
            "-rw------- 1 root root 75 May 28 03:51 /root/.kaggle/kaggle.json\n"
          ],
          "name": "stdout"
        }
      ]
    },
    {
      "cell_type": "code",
      "metadata": {
        "colab": {
          "base_uri": "https://localhost:8080/"
        },
        "id": "QB3AbvydFDZ_",
        "outputId": "c2fea248-da74-4914-ae55-41985f00c0b8"
      },
      "source": [
        "!kaggle datasets download -d preetviradiya/brian-tumor-dataset -p /content/drive/MyDrive/Dataset/BrainTumor --force"
      ],
      "execution_count": 16,
      "outputs": [
        {
          "output_type": "stream",
          "text": [
            "Downloading brian-tumor-dataset.zip to /content/drive/MyDrive/Dataset/BrainTumor\n",
            " 89% 96.0M/107M [00:01<00:00, 65.8MB/s]\n",
            "100% 107M/107M [00:01<00:00, 63.5MB/s] \n"
          ],
          "name": "stdout"
        }
      ]
    },
    {
      "cell_type": "code",
      "metadata": {
        "id": "8V8zDAN8Gezn"
      },
      "source": [
        "!unzip /content/drive/MyDrive/Dataset/BrainTumor/brian-tumor-dataset.zip -d /content/drive/MyDrive/Dataset/BrainTumor/  "
      ],
      "execution_count": null,
      "outputs": []
    },
    {
      "cell_type": "code",
      "metadata": {
        "id": "N_qOwH04J9pK"
      },
      "source": [
        "import pandas as pd\n",
        "import numpy as np\n",
        "import matplotlib.pyplot as plt\n",
        "%matplotlib inline\n",
        "import seaborn as sns\n",
        "from sklearn.preprocessing import StandardScaler \n",
        "from sklearn.model_selection import train_test_split \n",
        "from sklearn.metrics import classification_report\n",
        "import os\n",
        "\n",
        "#tensorflow libraries\n",
        "import tensorflow as tf\n",
        "from tensorflow import keras\n",
        "from tensorflow.keras.models import Sequential\n",
        "from tensorflow.keras.layers import MaxPooling2D, Dense, Dropout,Flatten, Conv2D\n",
        "from tensorflow.keras.optimizers import Adam\n",
        "from tensorflow.keras.losses import SparseCategoricalCrossentropy\n",
        "from keras.preprocessing.image import ImageDataGenerator\n",
        "from tensorflow.keras.callbacks import TensorBoard,EarlyStopping "
      ],
      "execution_count": 20,
      "outputs": []
    },
    {
      "cell_type": "code",
      "metadata": {
        "colab": {
          "base_uri": "https://localhost:8080/"
        },
        "id": "Iq6lpupaKCbQ",
        "outputId": "1afc1e95-d55a-4e7e-ac8c-0c49c0da2aa5"
      },
      "source": [
        "tumor_dir=f'/content/drive/MyDrive/Dataset/BrainTumor/Brain Tumor Data Set/Brain Tumor Data Set/Brain Tumor'\n",
        "healthy_dir=f'/content/drive/MyDrive/Dataset/BrainTumor/Brain Tumor Data Set/Brain Tumor Data Set/Healthy'\n",
        "filepaths = []\n",
        "labels= []\n",
        "dict_list = [tumor_dir, healthy_dir]\n",
        "for i, j in enumerate(dict_list):\n",
        "    flist=os.listdir(j)\n",
        "    for f in flist:\n",
        "        fpath=os.path.join(j,f)\n",
        "        filepaths.append(fpath)\n",
        "        if i==0:\n",
        "          labels.append('cancer')\n",
        "        else:\n",
        "          labels.append('healthy') \n",
        "    \n",
        "Fseries = pd.Series(filepaths, name=\"filepaths\")\n",
        "Lseries = pd.Series(labels, name=\"labels\")\n",
        "tumor_data = pd.concat([Fseries,Lseries], axis=1)\n",
        "tumor_df = pd.DataFrame(tumor_data)\n",
        "print(tumor_df.head())\n",
        "print(tumor_df[\"labels\"].value_counts())"
      ],
      "execution_count": 21,
      "outputs": [
        {
          "output_type": "stream",
          "text": [
            "                                           filepaths  labels\n",
            "0  /content/drive/MyDrive/Dataset/BrainTumor/Brai...  cancer\n",
            "1  /content/drive/MyDrive/Dataset/BrainTumor/Brai...  cancer\n",
            "2  /content/drive/MyDrive/Dataset/BrainTumor/Brai...  cancer\n",
            "3  /content/drive/MyDrive/Dataset/BrainTumor/Brai...  cancer\n",
            "4  /content/drive/MyDrive/Dataset/BrainTumor/Brai...  cancer\n",
            "cancer     2513\n",
            "healthy    2087\n",
            "Name: labels, dtype: int64\n"
          ],
          "name": "stdout"
        }
      ]
    },
    {
      "cell_type": "code",
      "metadata": {
        "id": "nRlNaAKYKcqA"
      },
      "source": [
        ""
      ],
      "execution_count": null,
      "outputs": []
    }
  ]
}